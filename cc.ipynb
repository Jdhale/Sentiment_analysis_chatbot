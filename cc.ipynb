{
 "cells": [
  {
   "cell_type": "code",
   "execution_count": 2,
   "id": "24cd7e42",
   "metadata": {},
   "outputs": [],
   "source": [
    "import pandas as pd\n",
    "tweets_df = pd.read_csv(\"Dataset/tweets/tweets-valid.csv\")\n",
    "hate_df = pd.read_csv(\"Dataset/hate/hate_bin_valid.csv\")\n",
    "tweets_train= pd.read_csv(\"Dataset/tweets/tweets-extra.csv\")\n",
    "hate_train = pd.read_csv(\"Dataset/hate/hate_bin_train.csv\")\n",
    "emotion_df=pd.read_csv(\"Dataset/emotion/validation.csv\")\n",
    "emotion_train=pd.read_csv(\"Dataset/emotion/train.csv\")\n",
    "\n",
    "\n"
   ]
  },
  {
   "cell_type": "code",
   "execution_count": 3,
   "id": "a012830a",
   "metadata": {},
   "outputs": [],
   "source": [
    "import re\n",
    "import emoji\n",
    "def clean_text(text):\n",
    "    text = re.sub(r\"http\\S+|@\\w+|#[A-Za-z0-9_]+\", \"\", text)\n",
    "    text = re.sub(r\"[^\\w\\s]\", \"\", text)\n",
    "    return text.strip().lower()\n",
    "\n",
    "emotion_train['Tweet'] =emotion_train['Tweet'].astype(str).apply(clean_text)\n",
    "emotion_df['Tweet'] =emotion_df['Tweet'].astype(str).apply(clean_text)\n",
    "tweets_df['tweet'] = tweets_df['tweet'].astype(str).apply(clean_text)\n",
    "tweets_train['tweet'] = tweets_train['tweet'].astype(str).apply(clean_text)\n",
    "hate_train['text'] = hate_train['text'].astype(str).apply(clean_text)\n",
    "hate_df['text'] = hate_df['text'].astype(str).apply(clean_text)\n"
   ]
  },
  {
   "cell_type": "code",
   "execution_count": 4,
   "id": "70bbb940",
   "metadata": {},
   "outputs": [
    {
     "name": "stdout",
     "output_type": "stream",
     "text": [
      "==== Sentiment Classification Report ====\n",
      "               precision    recall  f1-score   support\n",
      "\n",
      "Anger/Disgust       0.56      0.65      0.60       405\n",
      "   Excitement       0.67      0.05      0.09        44\n",
      "         Fear       0.50      0.08      0.13        13\n",
      "    Happiness       0.66      0.66      0.66       140\n",
      "      Neutral       0.47      0.71      0.57       499\n",
      "        Pride       0.55      0.14      0.23        76\n",
      "      Respect       0.64      0.50      0.56       141\n",
      "      Sadness       0.67      0.03      0.05        76\n",
      "      Sarcasm       0.00      0.00      0.00        10\n",
      "     Surprise       0.00      0.00      0.00        85\n",
      "      respect       0.00      0.00      0.00         6\n",
      "      sadness       0.00      0.00      0.00         5\n",
      "\n",
      "     accuracy                           0.53      1500\n",
      "    macro avg       0.39      0.24      0.24      1500\n",
      " weighted avg       0.52      0.53      0.49      1500\n",
      "\n",
      "\n",
      "==== Hate Speech Classification Report ====\n",
      "              precision    recall  f1-score   support\n",
      "\n",
      "         HOF       0.88      0.87      0.88      1875\n",
      "         NOT       0.87      0.88      0.88      1875\n",
      "\n",
      "    accuracy                           0.88      3750\n",
      "   macro avg       0.88      0.88      0.88      3750\n",
      "weighted avg       0.88      0.88      0.88      3750\n",
      "\n"
     ]
    },
    {
     "name": "stderr",
     "output_type": "stream",
     "text": [
      "c:\\Users\\jaydatta\\AppData\\Local\\Programs\\Python\\Python313\\Lib\\site-packages\\sklearn\\metrics\\_classification.py:1565: UndefinedMetricWarning: Precision is ill-defined and being set to 0.0 in labels with no predicted samples. Use `zero_division` parameter to control this behavior.\n",
      "  _warn_prf(average, modifier, f\"{metric.capitalize()} is\", len(result))\n",
      "c:\\Users\\jaydatta\\AppData\\Local\\Programs\\Python\\Python313\\Lib\\site-packages\\sklearn\\metrics\\_classification.py:1565: UndefinedMetricWarning: Precision is ill-defined and being set to 0.0 in labels with no predicted samples. Use `zero_division` parameter to control this behavior.\n",
      "  _warn_prf(average, modifier, f\"{metric.capitalize()} is\", len(result))\n",
      "c:\\Users\\jaydatta\\AppData\\Local\\Programs\\Python\\Python313\\Lib\\site-packages\\sklearn\\metrics\\_classification.py:1565: UndefinedMetricWarning: Precision is ill-defined and being set to 0.0 in labels with no predicted samples. Use `zero_division` parameter to control this behavior.\n",
      "  _warn_prf(average, modifier, f\"{metric.capitalize()} is\", len(result))\n"
     ]
    }
   ],
   "source": [
    "from sklearn.feature_extraction.text import TfidfVectorizer\n",
    "from sklearn.pipeline import Pipeline\n",
    "from sklearn.linear_model import LogisticRegression\n",
    "from sklearn.metrics import classification_report\n",
    "\n",
    "# === Sentiment (Emotion) Classification Pipeline ===\n",
    "sentiment_pipeline = Pipeline([\n",
    "    ('tfidf', TfidfVectorizer(max_features=5000)),\n",
    "    ('clf', LogisticRegression(max_iter=1000))\n",
    "])\n",
    "\n",
    "# === Hate Speech Classification Pipeline ===\n",
    "hate_pipeline = Pipeline([\n",
    "    ('tfidf', TfidfVectorizer(max_features=5000)),\n",
    "    ('clf', LogisticRegression(max_iter=1000))\n",
    "])\n",
    "\n",
    "# === Training the models ===\n",
    "sentiment_pipeline.fit(emotion_train['Tweet'], emotion_train['Label'])\n",
    "hate_pipeline.fit(hate_train['text'], hate_train['label'])\n",
    "\n",
    "# === Making Predictions ===\n",
    "sentiment_preds = sentiment_pipeline.predict(emotion_df['Tweet'])\n",
    "hate_preds = hate_pipeline.predict(hate_df['text'])\n",
    "\n",
    "# === Classification Reports ===\n",
    "print(\"==== Sentiment Classification Report ====\")\n",
    "print(classification_report(emotion_df['Label'], sentiment_preds))\n",
    "\n",
    "print(\"\\n==== Hate Speech Classification Report ====\")\n",
    "print(classification_report(hate_df['label'], hate_preds))\n"
   ]
  },
  {
   "cell_type": "code",
   "execution_count": 5,
   "id": "4a6080b1",
   "metadata": {},
   "outputs": [
    {
     "name": "stdout",
     "output_type": "stream",
     "text": [
      "\n",
      "Marathi Sentiment & Hate Detection Chatbot\n",
      "Type 'exit' to stop.\n",
      "\n",
      "➡️ भावना (Sentiment): Anger/Disgust\n",
      "➡️ द्वेष / गैरवर्तन (Hate): HOF\n",
      "\n",
      "➡️ भावना (Sentiment): Neutral\n",
      "➡️ द्वेष / गैरवर्तन (Hate): HOF\n",
      "\n"
     ]
    }
   ],
   "source": [
    "def chatbot():\n",
    "    print(\"\\nMarathi Sentiment & Hate Detection Chatbot\")\n",
    "    print(\"Type 'exit' to stop.\\n\")\n",
    "    while True:\n",
    "        user_input = input(\"📥 तुमचं वाक्य: \")\n",
    "        if user_input.lower() == 'exit':\n",
    "            break\n",
    "        \n",
    "        cleaned = clean_text(user_input)\n",
    "        sentiment_pred = sentiment_pipeline.predict([cleaned])[0]\n",
    "        hate_pred = hate_pipeline.predict([cleaned])[0]\n",
    "\n",
    "        print(f\"➡️ भावना (Sentiment): {sentiment_pred}\")\n",
    "        print(f\"➡️ द्वेष / गैरवर्तन (Hate): {hate_pred}\\n\")\n",
    "\n",
    "\n",
    "chatbot()\n"
   ]
  }
 ],
 "metadata": {
  "kernelspec": {
   "display_name": "Python 3",
   "language": "python",
   "name": "python3"
  },
  "language_info": {
   "codemirror_mode": {
    "name": "ipython",
    "version": 3
   },
   "file_extension": ".py",
   "mimetype": "text/x-python",
   "name": "python",
   "nbconvert_exporter": "python",
   "pygments_lexer": "ipython3",
   "version": "3.13.1"
  }
 },
 "nbformat": 4,
 "nbformat_minor": 5
}
